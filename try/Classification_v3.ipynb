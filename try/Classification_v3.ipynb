{
 "cells": [
  {
   "cell_type": "code",
   "execution_count": 114,
   "metadata": {},
   "outputs": [],
   "source": [
    "import pandas as pd\n",
    "import numpy as np\n",
    "from sklearn.model_selection import train_test_split\n",
    "from sklearn.ensemble import RandomForestRegressor\n",
    "from sklearn.feature_extraction.text import TfidfVectorizer\n",
    "from sklearn.preprocessing import OneHotEncoder, StandardScaler\n",
    "from sklearn.metrics import mean_squared_error, mean_absolute_error, r2_score\n"
   ]
  },
  {
   "cell_type": "code",
   "execution_count": 178,
   "metadata": {},
   "outputs": [],
   "source": [
    "data=pd.read_csv(r'dataset-final - 2000.csv')"
   ]
  },
  {
   "cell_type": "code",
   "execution_count": 179,
   "metadata": {},
   "outputs": [
    {
     "name": "stdout",
     "output_type": "stream",
     "text": [
      "Nombre de lignes avec des NaN extraites : 153\n",
      "Nouvelle taille du dataset nettoyé : 2314\n"
     ]
    }
   ],
   "source": [
    "# Extraire les lignes avec des NaN dans RATING\n",
    "data_missing_rating = data[data['RATING_SUR_5'].isnull()]\n",
    "\n",
    "# Supprimer les lignes avec des NaN dans RATING du DataFrame principal\n",
    "data = data.dropna(subset=['RATING_SUR_5'])\n",
    "\n",
    "# Afficher le résultat\n",
    "print(f\"Nombre de lignes avec des NaN extraites : {len(data_missing_rating)}\")\n",
    "print(f\"Nouvelle taille du dataset nettoyé : {len(data)}\")\n"
   ]
  },
  {
   "cell_type": "code",
   "execution_count": 180,
   "metadata": {},
   "outputs": [],
   "source": [
    "data['SYNOPSIS'] = data['SYNOPSIS'].fillna(\"\")\n",
    "data['REVIEWS'] = data['REVIEWS'].fillna(\"\")\n",
    "data['CAST'] = data['CAST'].fillna(\"\")\n",
    "data['PRODUCERS'] = data['PRODUCERS'].fillna(\"\")\n",
    "data['GENRES'] = data['GENRES'].fillna(\"\")\n"
   ]
  },
  {
   "cell_type": "markdown",
   "metadata": {},
   "source": [
    "POUR 3000"
   ]
  },
  {
   "cell_type": "code",
   "execution_count": 181,
   "metadata": {},
   "outputs": [],
   "source": [
    "vectorizer_synopsis = TfidfVectorizer(max_features=800)  # Limiter le nombre de caractéristiques à 500\n",
    "vectorizer_reviews = TfidfVectorizer(max_features=1000)\n",
    "vectorizer_genres = TfidfVectorizer(max_features=500)  # Limiter le nombre de caractéristiques à 500\n",
    "vectorizer_cast = TfidfVectorizer(max_features=500)\n",
    "vectorizer_producers = TfidfVectorizer(max_features=500)\n",
    "genre_features = vectorizer_genres.fit_transform(data['GENRES']).toarray()\n",
    "cast_features = vectorizer_cast.fit_transform(data['CAST']).toarray()\n",
    "producers_features = vectorizer_producers.fit_transform(data['PRODUCERS']).toarray()\n",
    "synopsis_features = vectorizer_synopsis.fit_transform(data['SYNOPSIS']).toarray()\n",
    "reviews_features = vectorizer_reviews.fit_transform(data['REVIEWS']).toarray()"
   ]
  },
  {
   "cell_type": "code",
   "execution_count": 183,
   "metadata": {},
   "outputs": [],
   "source": [
    "scaler = StandardScaler()\n",
    "duration_features = scaler.fit_transform(data[['DURATION_MIN']])\n"
   ]
  },
  {
   "cell_type": "code",
   "execution_count": 184,
   "metadata": {},
   "outputs": [],
   "source": [
    "X = np.hstack([synopsis_features, reviews_features, genre_features, \n",
    "               cast_features, producers_features, duration_features])\n",
    "y = data['RATING_SUR_5']\n",
    "# Diviser les données en train et test\n",
    "X_train, X_test, y_train, y_test = train_test_split(X, y, test_size=0.1, random_state=42)\n"
   ]
  },
  {
   "cell_type": "code",
   "execution_count": 121,
   "metadata": {},
   "outputs": [],
   "source": [
    "from sklearn.model_selection import train_test_split\n",
    "from sklearn.linear_model import LinearRegression\n",
    "from sklearn.ensemble import RandomForestRegressor\n",
    "from sklearn.ensemble import HistGradientBoostingRegressor\n",
    "from sklearn.experimental import enable_iterative_imputer  # Activer les outils expérimentaux\n",
    "from sklearn.impute import IterativeImputer, SimpleImputer\n",
    "from sklearn.svm import SVR\n",
    "from sklearn.metrics import mean_squared_error, mean_absolute_error, r2_score\n",
    "from sklearn.model_selection import cross_val_score\n",
    "import numpy as np"
   ]
  },
  {
   "cell_type": "code",
   "execution_count": 86,
   "metadata": {},
   "outputs": [
    {
     "name": "stdout",
     "output_type": "stream",
     "text": [
      "Meilleurs hyperparamètres : {'learning_rate': 0.05, 'max_depth': 10, 'max_iter': 300, 'min_samples_leaf': 20}\n"
     ]
    }
   ],
   "source": [
    "from sklearn.model_selection import GridSearchCV\n",
    "\n",
    "param_grid = {\n",
    "    'learning_rate': [0.01, 0.05, 0.1],\n",
    "    'max_iter': [100, 200, 300],\n",
    "    'max_depth': [3, 5, 10],\n",
    "    'min_samples_leaf': [10, 20, 50],\n",
    "}\n",
    "\n",
    "grid_search = GridSearchCV(\n",
    "    estimator=HistGradientBoostingRegressor(),\n",
    "    param_grid=param_grid,\n",
    "    cv=3,\n",
    "    scoring='neg_mean_squared_error',\n",
    "    n_jobs=-1\n",
    ")\n",
    "\n",
    "grid_search.fit(X_train, y_train)\n",
    "best_model = grid_search.best_estimator_\n",
    "print(\"Meilleurs hyperparamètres :\", grid_search.best_params_)\n"
   ]
  },
  {
   "cell_type": "code",
   "execution_count": 87,
   "metadata": {},
   "outputs": [
    {
     "name": "stdout",
     "output_type": "stream",
     "text": [
      "Mean Squared Error (MSE): 0.19491713941878638\n",
      "Mean Absolute Error (MAE): 0.33273580354537247\n"
     ]
    }
   ],
   "source": [
    "from sklearn.metrics import mean_squared_error, mean_absolute_error\n",
    "\n",
    "y_pred = best_model.predict(X_test)\n",
    "mse = mean_squared_error(y_test, y_pred)\n",
    "mae = mean_absolute_error(y_test, y_pred)\n",
    "\n",
    "print(f\"Mean Squared Error (MSE): {mse}\")\n",
    "print(f\"Mean Absolute Error (MAE): {mae}\")\n"
   ]
  },
  {
   "cell_type": "code",
   "execution_count": 168,
   "metadata": {},
   "outputs": [
    {
     "name": "stdout",
     "output_type": "stream",
     "text": [
      "Hist Gradient Boosting Results:\n",
      "Mean Squared Error: 0.1989\n",
      "Mean Absolute Error: 0.3384\n",
      "R² Score: 0.6717\n",
      "----------------------------------------\n",
      "Best Model: HistGradientBoostingRegressor()\n"
     ]
    }
   ],
   "source": [
    "\n",
    "# Liste des modèles à tester\n",
    "models = [\n",
    "    ('Hist Gradient Boosting', HistGradientBoostingRegressor()),\n",
    "]\n",
    "\n",
    "# Entraîner et évaluer chaque modèle\n",
    "best_model = None\n",
    "best_score = float('inf')  # Initialiser avec une valeur très élevée pour comparaison\n",
    "for name, model in models:\n",
    "    model.fit(X_train, y_train)  # Entraîner le modèle\n",
    "    y_pred = model.predict(X_test)  # Prédictions\n",
    "    \n",
    "    # Évaluer la performance\n",
    "    mse = mean_squared_error(y_test, y_pred)\n",
    "    mae = mean_absolute_error(y_test, y_pred)\n",
    "    r2 = r2_score(y_test, y_pred)\n",
    "    \n",
    "    print(f'{name} Results:')\n",
    "    print(f'Mean Squared Error: {mse:.4f}')\n",
    "    print(f'Mean Absolute Error: {mae:.4f}')\n",
    "    print(f'R² Score: {r2:.4f}')\n",
    "    print('-' * 40)\n",
    "    \n",
    "    # Comparer pour trouver le meilleur modèle\n",
    "    if mse < best_score:\n",
    "        best_score = mse\n",
    "        best_model = model\n",
    "\n",
    "# Afficher le meilleur modèle trouvé\n",
    "print(f'Best Model: {best_model}')\n"
   ]
  },
  {
   "cell_type": "code",
   "execution_count": 169,
   "metadata": {},
   "outputs": [
    {
     "name": "stdout",
     "output_type": "stream",
     "text": [
      "Modèle sauvegardé sous C:\\Users\\Aycha\\Desktop\\M2_BDIA\\NLP\\Projet_movie\\final\\model\\modele_3000.pkl\n"
     ]
    }
   ],
   "source": [
    "import joblib\n",
    "\n",
    "# Chemin pour sauvegarder le modèle\n",
    "model_path = r\"C:\\Users\\Aycha\\Desktop\\M2_BDIA\\NLP\\Projet_movie\\final\\model\\modele_3000.pkl\"\n",
    "\n",
    "# Sauvegarder le modèle avec joblib\n",
    "joblib.dump(best_model, model_path)\n",
    "print(f\"Modèle sauvegardé sous {model_path}\")\n"
   ]
  },
  {
   "cell_type": "code",
   "execution_count": 63,
   "metadata": {},
   "outputs": [],
   "source": [
    "# Remplacer les NaN par une chaîne vide\n",
    "data_missing_rating['SYNOPSIS'] = data_missing_rating['SYNOPSIS'].fillna(\"\")\n",
    "data_missing_rating['REVIEWS'] = data_missing_rating['REVIEWS'].fillna(\"\")\n",
    "data_missing_rating['GENRES'] = data_missing_rating['GENRES'].fillna(\"\")\n",
    "data_missing_rating['CAST'] = data_missing_rating['CAST'].fillna(\"\")\n",
    "data_missing_rating['PRODUCERS'] = data_missing_rating['PRODUCERS'].fillna(\"\")\n"
   ]
  },
  {
   "cell_type": "code",
   "execution_count": 64,
   "metadata": {},
   "outputs": [],
   "source": [
    "# Générer les caractéristiques pour les données manquantes\n",
    "synopsis_features_missing = vectorizer_synopsis.transform(data_missing_rating['SYNOPSIS']).toarray()\n",
    "reviews_features_missing = vectorizer_reviews.transform(data_missing_rating['REVIEWS']).toarray()\n",
    "genre_features_missing = vectorizer_genres.transform(data_missing_rating['GENRES']).toarray()\n",
    "cast_features_missing = vectorizer_cast.transform(data_missing_rating['CAST']).toarray()\n",
    "producers_features_missing = vectorizer_producers.transform(data_missing_rating['PRODUCERS']).toarray()\n",
    "duration_features_missing = scaler.transform(data_missing_rating[['DURATION_MIN']])\n",
    "\n",
    "# Concatenation des caractéristiques\n",
    "X_missing = np.hstack([\n",
    "    synopsis_features_missing, \n",
    "    reviews_features_missing, \n",
    "    genre_features_missing, \n",
    "    cast_features_missing, \n",
    "    producers_features_missing, \n",
    "    duration_features_missing\n",
    "])\n",
    "\n",
    "# Vérifier et aligner les dimensions si nécessaire\n",
    "if X_missing.shape[1] != X_train.shape[1]:\n",
    "    diff = X_train.shape[1] - X_missing.shape[1]\n",
    "    X_missing = np.hstack([X_missing, np.zeros((X_missing.shape[0], diff))])\n",
    "\n",
    "# Faire des prédictions\n",
    "y_pred_missing = best_model.predict(X_missing)\n",
    "data_missing_rating['RATING_SUR_5'] = y_pred_missing\n",
    "\n",
    "# Fusionner les données\n",
    "data = pd.concat([data, data_missing_rating])\n"
   ]
  },
  {
   "cell_type": "code",
   "execution_count": null,
   "metadata": {},
   "outputs": [],
   "source": [
    "data"
   ]
  },
  {
   "cell_type": "code",
   "execution_count": 66,
   "metadata": {},
   "outputs": [
    {
     "data": {
      "text/plain": [
       "np.int64(2467)"
      ]
     },
     "execution_count": 66,
     "metadata": {},
     "output_type": "execute_result"
    }
   ],
   "source": [
    "data['RATING_SUR_5'].isnull().count()"
   ]
  },
  {
   "cell_type": "code",
   "execution_count": 67,
   "metadata": {},
   "outputs": [],
   "source": [
    "data.to_csv(r'dataset-final.csv')"
   ]
  },
  {
   "cell_type": "markdown",
   "metadata": {},
   "source": [
    "Ensemble learning "
   ]
  },
  {
   "cell_type": "code",
   "execution_count": 170,
   "metadata": {},
   "outputs": [],
   "source": [
    "import joblib\n",
    "\n",
    "model1 = joblib.load(r\"C:\\Users\\Aycha\\Desktop\\M2_BDIA\\NLP\\Projet_movie\\final\\model\\modele_2000_V1.pkl\")\n",
    "model2 = joblib.load(r\"C:\\Users\\Aycha\\Desktop\\M2_BDIA\\NLP\\Projet_movie\\final\\model\\modele_2000_V2.pkl\")\n",
    "model3 = joblib.load(r\"C:\\Users\\Aycha\\Desktop\\M2_BDIA\\NLP\\Projet_movie\\final\\model\\modele_3000.pkl\")\n"
   ]
  },
  {
   "cell_type": "code",
   "execution_count": null,
   "metadata": {},
   "outputs": [
    {
     "name": "stdout",
     "output_type": "stream",
     "text": [
      "MSE du modèle 1 : 0.1628395510257533\n",
      "MSE du modèle 2 : 0.49721034762499494\n"
     ]
    }
   ],
   "source": [
    "mse1 = mean_squared_error(y_test, model1.predict(X_test))\n",
    "mse2 = mean_squared_error(y_test, model2.predict(X_test))\n",
    "\n",
    "\n",
    "print(\"MSE du modèle 1 :\", mse1)\n",
    "print(\"MSE du modèle 2 :\", mse2)\n"
   ]
  },
  {
   "cell_type": "code",
   "execution_count": 171,
   "metadata": {},
   "outputs": [
    {
     "name": "stdout",
     "output_type": "stream",
     "text": [
      "MSE du modèle 3 : 0.19886851672789724\n"
     ]
    }
   ],
   "source": [
    "mse3 = mean_squared_error(y_test, model3.predict(X_test))\n",
    "print(\"MSE du modèle 3 :\", mse3)"
   ]
  },
  {
   "cell_type": "code",
   "execution_count": 185,
   "metadata": {},
   "outputs": [
    {
     "name": "stdout",
     "output_type": "stream",
     "text": [
      "MSE du modèle empilé : 0.1607921624864349\n"
     ]
    }
   ],
   "source": [
    "from sklearn.ensemble import StackingRegressor\n",
    "from sklearn.linear_model import LinearRegression\n",
    "\n",
    "# Créer un empilement des modèles\n",
    "stacked_model = StackingRegressor(\n",
    "    estimators=[\n",
    "        ('model1', model1),\n",
    "        ('model2', model2),\n",
    "        ('model3', model3)\n",
    "    ],\n",
    "    final_estimator=LinearRegression()  # Modèle final\n",
    ")\n",
    "\n",
    "# Entraîner le modèle empilé\n",
    "stacked_model.fit(X_train, y_train)\n",
    "\n",
    "# Évaluer le modèle empilé\n",
    "stacked_mse = mean_squared_error(y_test, stacked_model.predict(X_test))\n",
    "print(\"MSE du modèle empilé :\", stacked_mse)\n"
   ]
  },
  {
   "cell_type": "code",
   "execution_count": 190,
   "metadata": {},
   "outputs": [
    {
     "name": "stdout",
     "output_type": "stream",
     "text": [
      "Mean Absolute Error: 0.3035\n",
      "R² Score: 0.7445\n"
     ]
    }
   ],
   "source": [
    "mae = mean_absolute_error(y_test, stacked_model.predict(X_test))\n",
    "r2 = r2_score(y_test, stacked_model.predict(X_test))\n",
    "\n",
    "print(f'Mean Absolute Error: {mae:.4f}')\n",
    "print(f'R² Score: {r2:.4f}')\n",
    " "
   ]
  },
  {
   "cell_type": "code",
   "execution_count": null,
   "metadata": {},
   "outputs": [],
   "source": [
    "model12 = joblib.load(r\"C:\\Users\\Aycha\\Desktop\\M2_BDIA\\NLP\\Projet_movie\\final\\model\\modele_ensemble_12.pkl\")\n",
    "model16 = joblib.load(r\"C:\\Users\\Aycha\\Desktop\\M2_BDIA\\NLP\\Projet_movie\\final\\model\\modele_ensemble_16.pkl\")\n"
   ]
  },
  {
   "cell_type": "code",
   "execution_count": 192,
   "metadata": {},
   "outputs": [
    {
     "name": "stdout",
     "output_type": "stream",
     "text": [
      "MSE du modèle empilé : 0.16061861732244032\n"
     ]
    }
   ],
   "source": [
    "from sklearn.ensemble import StackingRegressor\n",
    "from sklearn.ensemble import HistGradientBoostingRegressor\n",
    "\n",
    "# Créer un empilement des modèles\n",
    "stacked_model = StackingRegressor(\n",
    "    estimators=[\n",
    "        ('model1', model12),\n",
    "        ('model2', model16),\n",
    "    ],\n",
    "    final_estimator=LinearRegression()  # Modèle final\n",
    ")\n",
    "\n",
    "# Entraîner le modèle empilé\n",
    "stacked_model.fit(X_train, y_train)\n",
    "\n",
    "# Évaluer le modèle empilé\n",
    "stacked_mse = mean_squared_error(y_test, stacked_model.predict(X_test))\n",
    "print(\"MSE du modèle empilé :\", stacked_mse)\n"
   ]
  },
  {
   "cell_type": "code",
   "execution_count": 186,
   "metadata": {},
   "outputs": [
    {
     "name": "stdout",
     "output_type": "stream",
     "text": [
      "Modèle sauvegardé sous StackingRegressor(estimators=[('model1', HistGradientBoostingRegressor()),\n",
      "                              ('model2', HistGradientBoostingRegressor()),\n",
      "                              ('model3', HistGradientBoostingRegressor())],\n",
      "                  final_estimator=LinearRegression())\n"
     ]
    }
   ],
   "source": [
    "import joblib\n",
    "\n",
    "# Chemin pour sauvegarder le modèle\n",
    "model_path = r\"C:\\Users\\Aycha\\Desktop\\M2_BDIA\\NLP\\Projet_movie\\final\\model\\modele_ensemble_12.pkl\"\n",
    "\n",
    "# Sauvegarder le modèle avec joblib\n",
    "joblib.dump(stacked_model, model_path)\n",
    "print(f\"Modèle sauvegardé sous {stacked_model}\")"
   ]
  }
 ],
 "metadata": {
  "kernelspec": {
   "display_name": "movie_critic",
   "language": "python",
   "name": "python3"
  },
  "language_info": {
   "codemirror_mode": {
    "name": "ipython",
    "version": 3
   },
   "file_extension": ".py",
   "mimetype": "text/x-python",
   "name": "python",
   "nbconvert_exporter": "python",
   "pygments_lexer": "ipython3",
   "version": "3.12.5"
  }
 },
 "nbformat": 4,
 "nbformat_minor": 2
}
