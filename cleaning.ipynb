{
 "cells": [
  {
   "cell_type": "code",
   "execution_count": 9,
   "metadata": {},
   "outputs": [],
   "source": [
    "import pandas as pd\n",
    "df = pd.read_csv(r\"C:\\Users\\Aycha\\Desktop\\M2_BDIA\\NLP\\Projet_movie\\final\\Llast3_det.csv\")"
   ]
  },
  {
   "cell_type": "code",
   "execution_count": 2,
   "metadata": {},
   "outputs": [
    {
     "data": {
      "text/html": [
       "<div>\n",
       "<style scoped>\n",
       "    .dataframe tbody tr th:only-of-type {\n",
       "        vertical-align: middle;\n",
       "    }\n",
       "\n",
       "    .dataframe tbody tr th {\n",
       "        vertical-align: top;\n",
       "    }\n",
       "\n",
       "    .dataframe thead th {\n",
       "        text-align: right;\n",
       "    }\n",
       "</style>\n",
       "<table border=\"1\" class=\"dataframe\">\n",
       "  <thead>\n",
       "    <tr style=\"text-align: right;\">\n",
       "      <th></th>\n",
       "      <th>FILM TITLE</th>\n",
       "      <th>MOVIE_NAME</th>\n",
       "      <th>URL_FILM</th>\n",
       "      <th>REVIEWS</th>\n",
       "      <th>SYNOPSIS</th>\n",
       "      <th>YEAR</th>\n",
       "      <th>CAST</th>\n",
       "      <th>DURATION_MIN</th>\n",
       "      <th>GENRES</th>\n",
       "      <th>COUNTRIES</th>\n",
       "      <th>PRODUCERS</th>\n",
       "      <th>RATING_SUR_5</th>\n",
       "    </tr>\n",
       "  </thead>\n",
       "  <tbody>\n",
       "    <tr>\n",
       "      <th>0</th>\n",
       "      <td>Carry-On</td>\n",
       "      <td>carry-on</td>\n",
       "      <td>https://letterboxd.com/film/carry-on/</td>\n",
       "      <td>Aucune critique disponible</td>\n",
       "      <td>A cul-de-sac in an oppressive suburb becomes a...</td>\n",
       "      <td>1998.0</td>\n",
       "      <td>Julia Stiles, William R. Moses, Patrick Muldoo...</td>\n",
       "      <td>88.0</td>\n",
       "      <td>Thriller</td>\n",
       "      <td>NaN</td>\n",
       "      <td>Frank Beddor; Greg Steinberg</td>\n",
       "      <td>2.64</td>\n",
       "    </tr>\n",
       "    <tr>\n",
       "      <th>1</th>\n",
       "      <td>Nosferatu</td>\n",
       "      <td>nosferatu</td>\n",
       "      <td>https://letterboxd.com/film/nosferatu/</td>\n",
       "      <td>I only watched this to understand the Spongebo...</td>\n",
       "      <td>Years after witnessing the death of the revere...</td>\n",
       "      <td>2024.0</td>\n",
       "      <td>Paul Mescal, Denzel Washington, Pedro Pascal, ...</td>\n",
       "      <td>148.0</td>\n",
       "      <td>Drama; Action; Adventure</td>\n",
       "      <td>NaN</td>\n",
       "      <td>Michael A. Pruss; Winston Azzopardi; David Fra...</td>\n",
       "      <td>3.37</td>\n",
       "    </tr>\n",
       "  </tbody>\n",
       "</table>\n",
       "</div>"
      ],
      "text/plain": [
       "  FILM TITLE MOVIE_NAME                                URL_FILM  \\\n",
       "0   Carry-On   carry-on   https://letterboxd.com/film/carry-on/   \n",
       "1  Nosferatu  nosferatu  https://letterboxd.com/film/nosferatu/   \n",
       "\n",
       "                                             REVIEWS  \\\n",
       "0                         Aucune critique disponible   \n",
       "1  I only watched this to understand the Spongebo...   \n",
       "\n",
       "                                            SYNOPSIS    YEAR  \\\n",
       "0  A cul-de-sac in an oppressive suburb becomes a...  1998.0   \n",
       "1  Years after witnessing the death of the revere...  2024.0   \n",
       "\n",
       "                                                CAST DURATION_MIN  \\\n",
       "0  Julia Stiles, William R. Moses, Patrick Muldoo...         88.0   \n",
       "1  Paul Mescal, Denzel Washington, Pedro Pascal, ...        148.0   \n",
       "\n",
       "                     GENRES  COUNTRIES  \\\n",
       "0                  Thriller        NaN   \n",
       "1  Drama; Action; Adventure        NaN   \n",
       "\n",
       "                                           PRODUCERS RATING_SUR_5  \n",
       "0                       Frank Beddor; Greg Steinberg         2.64  \n",
       "1  Michael A. Pruss; Winston Azzopardi; David Fra...         3.37  "
      ]
     },
     "execution_count": 2,
     "metadata": {},
     "output_type": "execute_result"
    }
   ],
   "source": [
    "df.head(2)"
   ]
  },
  {
   "cell_type": "code",
   "execution_count": 3,
   "metadata": {},
   "outputs": [],
   "source": [
    "# Mettre tous les noms de colonnes en majuscule\n",
    "df.columns = df.columns.str.upper()"
   ]
  },
  {
   "cell_type": "code",
   "execution_count": 4,
   "metadata": {},
   "outputs": [
    {
     "name": "stdout",
     "output_type": "stream",
     "text": [
      "FILM TITLE         0\n",
      "MOVIE_NAME         0\n",
      "URL_FILM           0\n",
      "REVIEWS            0\n",
      "SYNOPSIS         824\n",
      "YEAR             819\n",
      "CAST              49\n",
      "DURATION_MIN     327\n",
      "GENRES            52\n",
      "COUNTRIES       3141\n",
      "PRODUCERS        896\n",
      "RATING_SUR_5     153\n",
      "dtype: int64\n"
     ]
    }
   ],
   "source": [
    "import numpy as np\n",
    "\n",
    "df = df.replace(np.nan, None)   \n",
    "print(df.isnull().sum()) "
   ]
  },
  {
   "cell_type": "code",
   "execution_count": 5,
   "metadata": {},
   "outputs": [
    {
     "name": "stdout",
     "output_type": "stream",
     "text": [
      "Nombre de lignes avec des valeurs manquantes dans 'REVIEWS': 0\n"
     ]
    }
   ],
   "source": [
    "missing_reviews = df[df[\"REVIEWS\"].isnull()]\n",
    "print(f\"Nombre de lignes avec des valeurs manquantes dans 'REVIEWS': {len(missing_reviews)}\")"
   ]
  },
  {
   "cell_type": "code",
   "execution_count": 109,
   "metadata": {},
   "outputs": [],
   "source": [
    "df = df.dropna(subset=[\"REVIEWS\"])\n",
    "df.to_csv(r\"C:\\Users\\Aycha\\Desktop\\M2_BDIA\\NLP\\Projet_movie\\final\\last_Target.csv\", index=False)"
   ]
  },
  {
   "cell_type": "code",
   "execution_count": 6,
   "metadata": {},
   "outputs": [],
   "source": [
    "df[\"missing_count\"] = df.isnull().sum(axis=1)\n",
    "rows_with_many_na = df[df['missing_count'] > 4]\n"
   ]
  },
  {
   "cell_type": "code",
   "execution_count": 8,
   "metadata": {},
   "outputs": [],
   "source": [
    "rows_with_many_na.to_csv(r\"C:\\Users\\Aycha\\Desktop\\M2_BDIA\\NLP\\Projet_movie\\final\\problem.csv\", index=False)"
   ]
  },
  {
   "cell_type": "code",
   "execution_count": 85,
   "metadata": {},
   "outputs": [],
   "source": [
    "df_cleaned = df[df['missing_count'] <= 4]"
   ]
  },
  {
   "cell_type": "code",
   "execution_count": 86,
   "metadata": {},
   "outputs": [],
   "source": [
    "df_sol=pd.read_csv(r\"C:\\Users\\Aycha\\Desktop\\M2_BDIA\\NLP\\Projet_movie\\final\\SOL.csv\")"
   ]
  },
  {
   "cell_type": "code",
   "execution_count": 44,
   "metadata": {},
   "outputs": [],
   "source": [
    "import pandas as pd\n",
    "df1 = pd.read_csv(r\"C:\\Users\\Aycha\\Desktop\\M2_BDIA\\NLP\\Projet_movie\\final\\Llast3_det.csv\")\n",
    "df2 = pd.read_csv(r\"C:\\Users\\Aycha\\Desktop\\M2_BDIA\\NLP\\Projet_movie\\final\\problem_solve.csv\")"
   ]
  },
  {
   "cell_type": "code",
   "execution_count": 45,
   "metadata": {},
   "outputs": [],
   "source": [
    "df_combined = pd.concat([df1, df2], ignore_index=True)"
   ]
  },
  {
   "cell_type": "code",
   "execution_count": 46,
   "metadata": {},
   "outputs": [],
   "source": [
    "df_combined.to_csv(r\"C:\\Users\\Aycha\\Desktop\\M2_BDIA\\NLP\\Projet_movie\\final\\last_Target.csv\", index=False)"
   ]
  },
  {
   "cell_type": "code",
   "execution_count": 47,
   "metadata": {},
   "outputs": [],
   "source": [
    "df=pd.read_csv(r\"C:\\Users\\Aycha\\Desktop\\M2_BDIA\\NLP\\Projet_movie\\final\\last_Target.csv\")"
   ]
  },
  {
   "cell_type": "code",
   "execution_count": 48,
   "metadata": {},
   "outputs": [],
   "source": [
    "colonnes_a_supprimer = [\"FILM TITLE\", \"URL_FILM\",\"COUNTRIES\"]\n",
    "df = df.drop(columns=colonnes_a_supprimer)\n"
   ]
  },
  {
   "cell_type": "code",
   "execution_count": 49,
   "metadata": {},
   "outputs": [],
   "source": [
    "df.to_csv(r\"C:\\Users\\Aycha\\Desktop\\M2_BDIA\\NLP\\Projet_movie\\final\\last_Target.csv\", index=False)"
   ]
  },
  {
   "cell_type": "code",
   "execution_count": 36,
   "metadata": {},
   "outputs": [
    {
     "name": "stdout",
     "output_type": "stream",
     "text": [
      "['nan']\n"
     ]
    }
   ],
   "source": [
    "# Assurez-vous que la colonne est convertie en chaînes de caractères\n",
    "df[\"DURATION\"] = df[\"DURATION\"].astype(str)\n",
    "\n",
    "# Vérifiez les valeurs non valides et affichez un aperçu si nécessaire\n",
    "print(df[\"DURATION\"].unique())\n",
    "\n",
    "# Appliquez la transformation\n",
    "df[\"DURATION_MIN\"] = (\n",
    "    df[\"DURATION\"]\n",
    "    .str.extract(r\"(\\d+)\", expand=False)  # Extraire les nombres\n",
    "    .apply(lambda x: int(x) if pd.notna(x) else None)  # Convertir en entier ou remplir avec None\n",
    ")\n",
    "\n",
    "# Transformation de RATING en float sur une échelle de 5\n",
    "df[\"RATING_SUR_5\"] = (\n",
    "    df[\"RATING\"]\n",
    "    .str.extract(r\"(\\d+(\\.\\d+)?)\", expand=False)[0]  # Extraire les nombres décimaux\n",
    "    .apply(lambda x: float(x) if pd.notna(x) else None)  # Convertir ou remplir avec None\n",
    ")\n",
    "\n",
    "# Suppression des colonnes originales elles ne sont plus nécessaires\n",
    "df = df.drop(columns=[\"DURATION\", \"RATING\"])\n"
   ]
  },
  {
   "cell_type": "code",
   "execution_count": 57,
   "metadata": {},
   "outputs": [],
   "source": [
    "df=pd.read_csv(r\"C:\\Users\\Aycha\\Desktop\\M2_BDIA\\NLP\\Projet_movie\\final\\last_Target.csv\")"
   ]
  },
  {
   "cell_type": "code",
   "execution_count": 58,
   "metadata": {},
   "outputs": [
    {
     "data": {
      "text/html": [
       "<div>\n",
       "<style scoped>\n",
       "    .dataframe tbody tr th:only-of-type {\n",
       "        vertical-align: middle;\n",
       "    }\n",
       "\n",
       "    .dataframe tbody tr th {\n",
       "        vertical-align: top;\n",
       "    }\n",
       "\n",
       "    .dataframe thead th {\n",
       "        text-align: right;\n",
       "    }\n",
       "</style>\n",
       "<table border=\"1\" class=\"dataframe\">\n",
       "  <thead>\n",
       "    <tr style=\"text-align: right;\">\n",
       "      <th></th>\n",
       "      <th>MOVIE_NAME</th>\n",
       "      <th>REVIEWS</th>\n",
       "      <th>SYNOPSIS</th>\n",
       "      <th>YEAR</th>\n",
       "      <th>CAST</th>\n",
       "      <th>DURATION_MIN</th>\n",
       "      <th>GENRES</th>\n",
       "      <th>PRODUCERS</th>\n",
       "      <th>RATING_SUR_5</th>\n",
       "      <th>missing_count</th>\n",
       "      <th>DURATION</th>\n",
       "      <th>RATING</th>\n",
       "    </tr>\n",
       "  </thead>\n",
       "  <tbody>\n",
       "    <tr>\n",
       "      <th>0</th>\n",
       "      <td>carry-on</td>\n",
       "      <td>Aucune critique disponible</td>\n",
       "      <td>A cul-de-sac in an oppressive suburb becomes a...</td>\n",
       "      <td>1998.0</td>\n",
       "      <td>Julia Stiles, William R. Moses, Patrick Muldoo...</td>\n",
       "      <td>88.0</td>\n",
       "      <td>Thriller</td>\n",
       "      <td>Frank Beddor; Greg Steinberg</td>\n",
       "      <td>2.64</td>\n",
       "      <td>NaN</td>\n",
       "      <td>NaN</td>\n",
       "      <td>NaN</td>\n",
       "    </tr>\n",
       "    <tr>\n",
       "      <th>1</th>\n",
       "      <td>nosferatu</td>\n",
       "      <td>I only watched this to understand the Spongebo...</td>\n",
       "      <td>Years after witnessing the death of the revere...</td>\n",
       "      <td>2024.0</td>\n",
       "      <td>Paul Mescal, Denzel Washington, Pedro Pascal, ...</td>\n",
       "      <td>148.0</td>\n",
       "      <td>Drama; Action; Adventure</td>\n",
       "      <td>Michael A. Pruss; Winston Azzopardi; David Fra...</td>\n",
       "      <td>3.37</td>\n",
       "      <td>NaN</td>\n",
       "      <td>NaN</td>\n",
       "      <td>NaN</td>\n",
       "    </tr>\n",
       "    <tr>\n",
       "      <th>2</th>\n",
       "      <td>home-alone</td>\n",
       "      <td>Young Patrick Bateman**do you think the wet ba...</td>\n",
       "      <td>After receiving an unexpected call from her wa...</td>\n",
       "      <td>2024.0</td>\n",
       "      <td>Auliʻi Cravalho, Dwayne Johnson, Hualālai Chun...</td>\n",
       "      <td>100.0</td>\n",
       "      <td>Comedy; Animation; Adventure; Family</td>\n",
       "      <td>Christina Chen; Yvett Merino Flores</td>\n",
       "      <td>2.87</td>\n",
       "      <td>NaN</td>\n",
       "      <td>NaN</td>\n",
       "      <td>NaN</td>\n",
       "    </tr>\n",
       "    <tr>\n",
       "      <th>3</th>\n",
       "      <td>the-holdovers</td>\n",
       "      <td>There's a handshake in this that feels more ov...</td>\n",
       "      <td>A fading celebrity decides to use a black mark...</td>\n",
       "      <td>2024.0</td>\n",
       "      <td>Demi Moore, Margaret Qualley, Dennis Quaid, Ed...</td>\n",
       "      <td>141.0</td>\n",
       "      <td>Horror; Science Fiction</td>\n",
       "      <td>Coralie Fargeat; Eric Fellner; Tim Bevan</td>\n",
       "      <td>3.85</td>\n",
       "      <td>NaN</td>\n",
       "      <td>NaN</td>\n",
       "      <td>NaN</td>\n",
       "    </tr>\n",
       "    <tr>\n",
       "      <th>4</th>\n",
       "      <td>anora</td>\n",
       "      <td>A terrifying tale of dating a mama’s boy**Sean...</td>\n",
       "      <td>After discovering their significant others are...</td>\n",
       "      <td>2024.0</td>\n",
       "      <td>Lindsay Lohan, Ian Harding, Kristin Chenoweth,...</td>\n",
       "      <td>99.0</td>\n",
       "      <td>Drama; Romance; Comedy</td>\n",
       "      <td>Mike Elliott; Lisa Gooding</td>\n",
       "      <td>2.36</td>\n",
       "      <td>NaN</td>\n",
       "      <td>NaN</td>\n",
       "      <td>NaN</td>\n",
       "    </tr>\n",
       "    <tr>\n",
       "      <th>...</th>\n",
       "      <td>...</td>\n",
       "      <td>...</td>\n",
       "      <td>...</td>\n",
       "      <td>...</td>\n",
       "      <td>...</td>\n",
       "      <td>...</td>\n",
       "      <td>...</td>\n",
       "      <td>...</td>\n",
       "      <td>...</td>\n",
       "      <td>...</td>\n",
       "      <td>...</td>\n",
       "      <td>...</td>\n",
       "    </tr>\n",
       "    <tr>\n",
       "      <th>3223</th>\n",
       "      <td>lightyear</td>\n",
       "      <td>NaN</td>\n",
       "      <td>NaN</td>\n",
       "      <td>NaN</td>\n",
       "      <td>NaN</td>\n",
       "      <td>Inconnue</td>\n",
       "      <td>NaN</td>\n",
       "      <td>NaN</td>\n",
       "      <td>Indisponible</td>\n",
       "      <td>9.0</td>\n",
       "      <td>NaN</td>\n",
       "      <td>NaN</td>\n",
       "    </tr>\n",
       "    <tr>\n",
       "      <th>3224</th>\n",
       "      <td>come-together</td>\n",
       "      <td>NaN</td>\n",
       "      <td>NaN</td>\n",
       "      <td>NaN</td>\n",
       "      <td>Paul Ansdell, Ali Bastian, Clare Bullus, Alexa...</td>\n",
       "      <td>Inconnue</td>\n",
       "      <td>NaN</td>\n",
       "      <td>NaN</td>\n",
       "      <td>Indisponible</td>\n",
       "      <td>8.0</td>\n",
       "      <td>NaN</td>\n",
       "      <td>NaN</td>\n",
       "    </tr>\n",
       "    <tr>\n",
       "      <th>3225</th>\n",
       "      <td>50-50</td>\n",
       "      <td>all seth rogen knows is to be homoerotic with ...</td>\n",
       "      <td>NaN</td>\n",
       "      <td>NaN</td>\n",
       "      <td>Joseph Gordon-Levitt, Seth Rogen, Anna Kendric...</td>\n",
       "      <td>Inconnue</td>\n",
       "      <td>Comedy; Drama</td>\n",
       "      <td>Evan Goldberg; Seth Rogen; Nicole Brown; Ben K...</td>\n",
       "      <td>Indisponible</td>\n",
       "      <td>9.0</td>\n",
       "      <td>NaN</td>\n",
       "      <td>3.60 out of 5</td>\n",
       "    </tr>\n",
       "    <tr>\n",
       "      <th>3226</th>\n",
       "      <td>villains</td>\n",
       "      <td>I just made up a little game we can all play, ...</td>\n",
       "      <td>NaN</td>\n",
       "      <td>NaN</td>\n",
       "      <td>NaN</td>\n",
       "      <td>NaN</td>\n",
       "      <td>Thriller; Drama; Crime</td>\n",
       "      <td>NaN</td>\n",
       "      <td>Indisponible</td>\n",
       "      <td>8.0</td>\n",
       "      <td>NaN</td>\n",
       "      <td>NaN</td>\n",
       "    </tr>\n",
       "    <tr>\n",
       "      <th>3227</th>\n",
       "      <td>skincare</td>\n",
       "      <td>She will kill for beautiful skin.**Love a fun ...</td>\n",
       "      <td>NaN</td>\n",
       "      <td>NaN</td>\n",
       "      <td>Kristin Slaysman, Echo Campbell, Nicholas Oter...</td>\n",
       "      <td>5 minutes</td>\n",
       "      <td>NaN</td>\n",
       "      <td>NaN</td>\n",
       "      <td>Indisponible</td>\n",
       "      <td>7.0</td>\n",
       "      <td>NaN</td>\n",
       "      <td>NaN</td>\n",
       "    </tr>\n",
       "  </tbody>\n",
       "</table>\n",
       "<p>3228 rows × 12 columns</p>\n",
       "</div>"
      ],
      "text/plain": [
       "         MOVIE_NAME                                            REVIEWS  \\\n",
       "0          carry-on                         Aucune critique disponible   \n",
       "1         nosferatu  I only watched this to understand the Spongebo...   \n",
       "2        home-alone  Young Patrick Bateman**do you think the wet ba...   \n",
       "3     the-holdovers  There's a handshake in this that feels more ov...   \n",
       "4             anora  A terrifying tale of dating a mama’s boy**Sean...   \n",
       "...             ...                                                ...   \n",
       "3223      lightyear                                                NaN   \n",
       "3224  come-together                                                NaN   \n",
       "3225          50-50  all seth rogen knows is to be homoerotic with ...   \n",
       "3226       villains  I just made up a little game we can all play, ...   \n",
       "3227       skincare  She will kill for beautiful skin.**Love a fun ...   \n",
       "\n",
       "                                               SYNOPSIS    YEAR  \\\n",
       "0     A cul-de-sac in an oppressive suburb becomes a...  1998.0   \n",
       "1     Years after witnessing the death of the revere...  2024.0   \n",
       "2     After receiving an unexpected call from her wa...  2024.0   \n",
       "3     A fading celebrity decides to use a black mark...  2024.0   \n",
       "4     After discovering their significant others are...  2024.0   \n",
       "...                                                 ...     ...   \n",
       "3223                                                NaN     NaN   \n",
       "3224                                                NaN     NaN   \n",
       "3225                                                NaN     NaN   \n",
       "3226                                                NaN     NaN   \n",
       "3227                                                NaN     NaN   \n",
       "\n",
       "                                                   CAST DURATION_MIN  \\\n",
       "0     Julia Stiles, William R. Moses, Patrick Muldoo...         88.0   \n",
       "1     Paul Mescal, Denzel Washington, Pedro Pascal, ...        148.0   \n",
       "2     Auliʻi Cravalho, Dwayne Johnson, Hualālai Chun...        100.0   \n",
       "3     Demi Moore, Margaret Qualley, Dennis Quaid, Ed...        141.0   \n",
       "4     Lindsay Lohan, Ian Harding, Kristin Chenoweth,...         99.0   \n",
       "...                                                 ...          ...   \n",
       "3223                                                NaN     Inconnue   \n",
       "3224  Paul Ansdell, Ali Bastian, Clare Bullus, Alexa...     Inconnue   \n",
       "3225  Joseph Gordon-Levitt, Seth Rogen, Anna Kendric...     Inconnue   \n",
       "3226                                                NaN          NaN   \n",
       "3227  Kristin Slaysman, Echo Campbell, Nicholas Oter...    5 minutes   \n",
       "\n",
       "                                    GENRES  \\\n",
       "0                                 Thriller   \n",
       "1                 Drama; Action; Adventure   \n",
       "2     Comedy; Animation; Adventure; Family   \n",
       "3                  Horror; Science Fiction   \n",
       "4                   Drama; Romance; Comedy   \n",
       "...                                    ...   \n",
       "3223                                   NaN   \n",
       "3224                                   NaN   \n",
       "3225                         Comedy; Drama   \n",
       "3226                Thriller; Drama; Crime   \n",
       "3227                                   NaN   \n",
       "\n",
       "                                              PRODUCERS  RATING_SUR_5  \\\n",
       "0                          Frank Beddor; Greg Steinberg          2.64   \n",
       "1     Michael A. Pruss; Winston Azzopardi; David Fra...          3.37   \n",
       "2                   Christina Chen; Yvett Merino Flores          2.87   \n",
       "3              Coralie Fargeat; Eric Fellner; Tim Bevan          3.85   \n",
       "4                            Mike Elliott; Lisa Gooding          2.36   \n",
       "...                                                 ...           ...   \n",
       "3223                                                NaN  Indisponible   \n",
       "3224                                                NaN  Indisponible   \n",
       "3225  Evan Goldberg; Seth Rogen; Nicole Brown; Ben K...  Indisponible   \n",
       "3226                                                NaN  Indisponible   \n",
       "3227                                                NaN  Indisponible   \n",
       "\n",
       "      missing_count  DURATION         RATING  \n",
       "0               NaN       NaN            NaN  \n",
       "1               NaN       NaN            NaN  \n",
       "2               NaN       NaN            NaN  \n",
       "3               NaN       NaN            NaN  \n",
       "4               NaN       NaN            NaN  \n",
       "...             ...       ...            ...  \n",
       "3223            9.0       NaN            NaN  \n",
       "3224            8.0       NaN            NaN  \n",
       "3225            9.0       NaN  3.60 out of 5  \n",
       "3226            8.0       NaN            NaN  \n",
       "3227            7.0       NaN            NaN  \n",
       "\n",
       "[3228 rows x 12 columns]"
      ]
     },
     "execution_count": 58,
     "metadata": {},
     "output_type": "execute_result"
    }
   ],
   "source": [
    "df"
   ]
  },
  {
   "cell_type": "code",
   "execution_count": 61,
   "metadata": {},
   "outputs": [
    {
     "name": "stdout",
     "output_type": "stream",
     "text": [
      "MOVIE_NAME          0\n",
      "REVIEWS            18\n",
      "SYNOPSIS          911\n",
      "YEAR              906\n",
      "CAST               70\n",
      "DURATION_MIN      434\n",
      "GENRES             77\n",
      "PRODUCERS         961\n",
      "RATING_SUR_5      260\n",
      "missing_count    3141\n",
      "dtype: int64\n"
     ]
    }
   ],
   "source": [
    "print(df.isnull().sum())"
   ]
  },
  {
   "cell_type": "code",
   "execution_count": 59,
   "metadata": {},
   "outputs": [],
   "source": [
    "df[\"DURATION_MIN\"] = df.apply(\n",
    "    lambda row: row[\"DURATION_MIN\"] if pd.notna(row[\"DURATION_MIN\"]) \n",
    "    else row[\"DURATION\"], axis=1\n",
    ")\n",
    "\n",
    "# Nettoyer la colonne finale (extraire les nombres et convertir en entier)\n",
    "df[\"DURATION_MIN\"] = (\n",
    "    df[\"DURATION_MIN\"]\n",
    "    .apply(lambda x: str(x) if pd.notna(x) else None)  # Convertir en chaîne si nécessaire\n",
    "    .str.extract(r\"(\\d+)\", expand=False)  # Extraire les nombres\n",
    "    .apply(lambda x: int(x) if pd.notna(x) else None)  # Convertir en entier\n",
    ")\n",
    "\n",
    "# Supprimer la colonne originale DURATION si elle n'est plus nécessaire\n",
    "df = df.drop(columns=[\"DURATION\"])\n"
   ]
  },
  {
   "cell_type": "code",
   "execution_count": 60,
   "metadata": {},
   "outputs": [],
   "source": [
    "# Fusionner les colonnes RATING et RATING_SUR_5\n",
    "df[\"RATING_SUR_5\"] = df.apply(\n",
    "    lambda row: row[\"RATING_SUR_5\"] if pd.notna(row[\"RATING_SUR_5\"]) \n",
    "    else row[\"RATING\"], axis=1\n",
    ")\n",
    "\n",
    "# Nettoyer la colonne finale (convertir les notes sur une échelle de 5)\n",
    "df[\"RATING_SUR_5\"] = (\n",
    "    df[\"RATING_SUR_5\"]\n",
    "    .apply(lambda x: str(x) if pd.notna(x) else None)  # Convertir en chaîne si nécessaire\n",
    "    .str.extract(r\"(\\d+(\\.\\d+)?)\", expand=False)[0]  # Extraire les nombres décimaux\n",
    "    .apply(lambda x: float(x) if pd.notna(x) else None)  # Convertir en float\n",
    "    .apply(lambda x: x / 2 if x and x > 5 else x)  # Normaliser sur 5 si nécessaire\n",
    ")\n",
    "\n",
    "# Supprimer la colonne originale RATING si elle n'est plus nécessaire\n",
    "df = df.drop(columns=[\"RATING\"])\n"
   ]
  },
  {
   "cell_type": "code",
   "execution_count": 62,
   "metadata": {},
   "outputs": [],
   "source": [
    "df.to_csv(r\"C:\\Users\\Aycha\\Desktop\\M2_BDIA\\NLP\\Projet_movie\\final\\last_Target.csv\")"
   ]
  }
 ],
 "metadata": {
  "kernelspec": {
   "display_name": "movie_critic",
   "language": "python",
   "name": "python3"
  },
  "language_info": {
   "codemirror_mode": {
    "name": "ipython",
    "version": 3
   },
   "file_extension": ".py",
   "mimetype": "text/x-python",
   "name": "python",
   "nbconvert_exporter": "python",
   "pygments_lexer": "ipython3",
   "version": "3.12.5"
  }
 },
 "nbformat": 4,
 "nbformat_minor": 2
}
